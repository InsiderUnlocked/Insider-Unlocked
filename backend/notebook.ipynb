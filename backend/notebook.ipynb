{
 "cells": [
  {
   "cell_type": "code",
   "execution_count": 58,
   "metadata": {},
   "outputs": [
    {
     "name": "stdout",
     "output_type": "stream",
     "text": [
      "                                   Name Notification Date  \\\n",
      "0           Collins, Susan M. (Senator)        12/23/2021   \n",
      "1               Hagerty, Bill (Senator)        12/22/2021   \n",
      "2               Hagerty, Bill (Senator)        12/22/2021   \n",
      "3  McConnell, A. Mitchell Jr. (Senator)        12/16/2021   \n",
      "4          Hickenlooper, John (Senator)        12/10/2021   \n",
      "5          Hickenlooper, John (Senator)        12/10/2021   \n",
      "6          Hickenlooper, John (Senator)        12/10/2021   \n",
      "7          Hickenlooper, John (Senator)        12/10/2021   \n",
      "8          Hickenlooper, John (Senator)        12/10/2021   \n",
      "9          Hickenlooper, John (Senator)        12/10/2021   \n",
      "\n",
      "                                                Link Transaction Date   Owner  \\\n",
      "0  https://efdsearch.senate.gov/search/view/ptr/1...       11/10/2021  Spouse   \n",
      "1  https://efdsearch.senate.gov/search/view/ptr/a...       12/16/2021    Self   \n",
      "2  https://efdsearch.senate.gov/search/view/ptr/a...       12/01/2021    Self   \n",
      "3  https://efdsearch.senate.gov/search/view/ptr/0...       12/03/2021  Spouse   \n",
      "4  https://efdsearch.senate.gov/search/view/ptr/3...       11/01/2021    Self   \n",
      "5  https://efdsearch.senate.gov/search/view/ptr/3...       11/01/2021    Self   \n",
      "6  https://efdsearch.senate.gov/search/view/ptr/3...       11/01/2021    Self   \n",
      "7  https://efdsearch.senate.gov/search/view/ptr/3...       10/27/2021    Self   \n",
      "8  https://efdsearch.senate.gov/search/view/ptr/3...       10/29/2021    Self   \n",
      "9  https://efdsearch.senate.gov/search/view/ptr/3...       10/29/2021    Self   \n",
      "\n",
      "                                       Ticker  \\\n",
      "0                                          --   \n",
      "1    [VRM, https://finance.yahoo.com/q?s=VRM]   \n",
      "2  [CTAA, https://finance.yahoo.com/q?s=CTAA]   \n",
      "3    [WFC, https://finance.yahoo.com/q?s=WFC]   \n",
      "4  [PYPL, https://finance.yahoo.com/q?s=PYPL]   \n",
      "5  [NVDA, https://finance.yahoo.com/q?s=NVDA]   \n",
      "6  [MSFT, https://finance.yahoo.com/q?s=MSFT]   \n",
      "7      [FB, https://finance.yahoo.com/q?s=FB]   \n",
      "8  [AAPL, https://finance.yahoo.com/q?s=AAPL]   \n",
      "9  [AMZN, https://finance.yahoo.com/q?s=AMZN]   \n",
      "\n",
      "                                          Asset Name          Asset Type  \\\n",
      "0  [ME St Housing Auth (Social Bds) Ser D 56052FW...  Municipal Security   \n",
      "1                         Vroom, Inc. - Common Stock               Stock   \n",
      "2  [Qwest Corporation 7% Notes due 2056, [Rate/Co...      Corporate Bond   \n",
      "3                 Wells Fargo & Company Common Stock               Stock   \n",
      "4               PayPal Holdings, Inc. - Common Stock               Stock   \n",
      "5                  NVIDIA Corporation - Common Stock               Stock   \n",
      "6               Microsoft Corporation - Common Stock               Stock   \n",
      "7              Facebook, Inc. - Class A Common Stock               Stock   \n",
      "8                          Apple Inc. - Common Stock               Stock   \n",
      "9                    Amazon.com, Inc. - Common Stock               Stock   \n",
      "\n",
      "          Type                 Amount  \\\n",
      "0     Purchase     $50,001 - $100,000   \n",
      "1  Sale (Full)       $1,001 - $15,000   \n",
      "2  Sale (Full)     $50,001 - $100,000   \n",
      "3     Purchase       $1,001 - $15,000   \n",
      "4  Sale (Full)    $250,001 - $500,000   \n",
      "5  Sale (Full)  $500,001 - $1,000,000   \n",
      "6  Sale (Full)    $250,001 - $500,000   \n",
      "7  Sale (Full)    $250,001 - $500,000   \n",
      "8  Sale (Full)    $250,001 - $500,000   \n",
      "9  Sale (Full)    $250,001 - $500,000   \n",
      "\n",
      "                                    Comment  \n",
      "0                                        --  \n",
      "1   Asset owned by Roundstone Ventures, LLC  \n",
      "2  Asset owned by Roundstone Ventures, LLC.  \n",
      "3                     Dividend Reinvestment  \n",
      "4                                        --  \n",
      "5                                        --  \n",
      "6                                        --  \n",
      "7                                        --  \n",
      "8                                        --  \n",
      "9                                        --  \n"
     ]
    }
   ],
   "source": [
    "# Import Libraries\n",
    "import pandas as pd\n",
    "\n",
    "# Load in json data\n",
    "df = pd.read_json('transactions.json')\n",
    "print(df.head(10))"
   ]
  },
  {
   "cell_type": "code",
   "execution_count": 59,
   "metadata": {},
   "outputs": [],
   "source": [
    "# Import Libraries\n",
    "import matplotlib.pyplot as plt\n",
    "import numpy as np\n",
    "\n",
    "# Initialize Variables\n",
    "countSales = []\n",
    "\n",
    "# array to keep count of years\n",
    "years = ['2012', '2013', '2014', '2015', '2016', '2017', '2018', '2019', '2020', '2021']\n",
    "\n",
    "# Partial Sales\n",
    "dfSalespartial = df[df['Type'] == 'Sale (Partial)']\n",
    "\n",
    "# Full sales\n",
    "dfSalesfull = df[df['Type'] == 'Sale (Full)']\n",
    "\n",
    "# Combine both dataframers to include all sales\n",
    "dfSales = pd.concat([dfSalespartial, dfSalesfull])\n",
    "\n",
    "# iterate through the number of years\n",
    "for year in years:\n",
    "    # filter dataframe to only include that year  and count it\n",
    "    countOfYear = dfSales[dfSales['Transaction Date'].str[-4:] == year].count()\n",
    "    \n",
    "    # append the count to array\n",
    "    countSales.append(countOfYear['Transaction Date'])"
   ]
  },
  {
   "cell_type": "code",
   "execution_count": 60,
   "metadata": {},
   "outputs": [
    {
     "data": {
      "image/png": "[encoded data removed]",
      "text/plain": [
       "<Figure size 432x288 with 1 Axes>"
      ]
     },
     "metadata": {
      "needs_background": "light"
     },
     "output_type": "display_data"
    }
   ],
   "source": [
    "# Length of years array\n",
    "y_pos = np.arange(len(years))\n",
    "\n",
    "# initilize our graph\n",
    "plt.bar(y_pos, countSales, align='center', alpha=0.5)\n",
    "\n",
    "# set the x-axis values\n",
    "plt.xticks(y_pos, years)\n",
    "\n",
    "# set the x-title\n",
    "plt.xlabel('Years')\n",
    "\n",
    "# set the y-title\n",
    "plt.ylabel('Number of Sales')\n",
    "\n",
    "# set the title\n",
    "plt.title('Sales In The Senate Every Month')\n",
    "\n",
    "plt.show()"
   ]
  },
  {
   "cell_type": "code",
   "execution_count": 61,
   "metadata": {},
   "outputs": [],
   "source": [
    "# Intialize array for number of purchases per month\n",
    "countBuys = []\n",
    "\n",
    "# Filter out the dataframe for all purchases \n",
    "dfPurchases = df[df['Type'] == 'Purchase']\n",
    "\n",
    "# iterate through the number of years\n",
    "for year in years:\n",
    "    # filter dataframe to only include that year  and count it\n",
    "    countOfYear = dfPurchases[dfPurchases['Transaction Date'].str[-4:] == year].count()\n",
    "    \n",
    "    # append the count to array\n",
    "    countBuys.append(countOfYear['Transaction Date'])\n"
   ]
  },
  {
   "cell_type": "code",
   "execution_count": 62,
   "metadata": {},
   "outputs": [
    {
     "data": {
      "image/png": "[encoded data removed]",
      "text/plain": [
       "<Figure size 432x288 with 1 Axes>"
      ]
     },
     "metadata": {
      "needs_background": "light"
     },
     "output_type": "display_data"
    }
   ],
   "source": [
    "# Graph Purcahses for Senators\n",
    "\n",
    "# Length of years array\n",
    "y_pos = np.arange(len(years))\n",
    "\n",
    "# initilize our graph\n",
    "plt.bar(y_pos, countBuys, align='center', alpha=0.5)\n",
    "\n",
    "# set the x-axis values\n",
    "plt.xticks(y_pos, years)\n",
    "\n",
    "# set the x-title\n",
    "plt.xlabel('Years')\n",
    "\n",
    "# set the y-title\n",
    "plt.ylabel('Number of Purchases')\n",
    "\n",
    "# set the title\n",
    "plt.title('Number of Purchases In The Senate Every Year')\n",
    "\n",
    "plt.show()"
   ]
  },
  {
   "cell_type": "code",
   "execution_count": 63,
   "metadata": {},
   "outputs": [
    {
     "data": {
      "image/png": "[encoded data removed]",
      "text/plain": [
       "<Figure size 432x288 with 1 Axes>"
      ]
     },
     "metadata": {
      "needs_background": "light"
     },
     "output_type": "display_data"
    }
   ],
   "source": [
    "# Bar graph with both sales and buys\n",
    "# initilize our graph\n",
    "width = 0.3       \n",
    "plt.bar(y_pos, countSales, width, color = 'red', label='Number of Sales')\n",
    "plt.bar(y_pos+width, countBuys, width, color = 'green', label='Number of purchases')\n",
    "plt.xticks(y_pos, years)\n",
    "plt.title('Sales and Purchases in the Senate every year')\n",
    "plt.xlabel('Years')\n",
    "plt.ylabel('Number of Sales and Purchases')\n",
    "plt.legend(['Sales', 'Purchases'])\n",
    "\n",
    "plt.show()"
   ]
  },
  {
   "cell_type": "markdown",
   "metadata": {},
   "source": [
    "Total Transactions by year"
   ]
  },
  {
   "cell_type": "code",
   "execution_count": 64,
   "metadata": {},
   "outputs": [
    {
     "data": {
      "image/png": "[encoded data removed]",
      "text/plain": [
       "<Figure size 432x288 with 1 Axes>"
      ]
     },
     "metadata": {
      "needs_background": "light"
     },
     "output_type": "display_data"
    }
   ],
   "source": [
    "y_pos = np.arange(len(years))\n",
    "\n",
    "countTransactions = []\n",
    "for i in range(len(countSales)):\n",
    "    countTransactions.append(countSales[i] + countBuys[i])\n",
    "\n",
    "# initilize our graph\n",
    "plt.bar(y_pos, countTransactions, align='center', alpha=0.5)\n",
    "\n",
    "# set the x-axis values\n",
    "plt.xticks(y_pos, years)\n",
    "\n",
    "# set the x-title\n",
    "plt.xlabel('Years')\n",
    "\n",
    "# set the y-title\n",
    "plt.ylabel('Number of Transactions')\n",
    "\n",
    "# set the title\n",
    "plt.title('Number of Transactions In The Senate Every Year')\n",
    "\n",
    "plt.show()"
   ]
  },
  {
   "cell_type": "markdown",
   "metadata": {},
   "source": [
    "Total Trade Volume"
   ]
  },
  {
   "cell_type": "code",
   "execution_count": 84,
   "metadata": {},
   "outputs": [
    {
     "name": "stdout",
     "output_type": "stream",
     "text": [
      "0\n"
     ]
    }
   ],
   "source": [
    "def specificSenator(name):\n",
    "    dfTransactions = df[df['Name'] == name]\n",
    "\n",
    "    amounts = dfTransactions['Amount'].value_counts()\n",
    "    listOfAmounts = ['$1,001', '$15, 001', '$50, 001', '$250, 001']\n",
    "    intsOfAmounts = [1001, 15001, 50001, 250001]\n",
    "    sumMin = 0\n",
    "    sumMax = 0\n",
    "    #iterate through the amount of each transaction \n",
    "    for i in range(len(amounts.index)):\n",
    "        # iterate through the \n",
    "        for j in range(len(listOfAmounts)):\n",
    "            if listOfAmounts[j] in str(amounts.values):\n",
    "                sumMin += intsOfAmounts[j] \n",
    "\n",
    "    # print cols\n",
    "\n",
    "    # values = a.index\n",
    "    # nums = a.values\n",
    "\n",
    "    print(sumMin)\n",
    "    \n",
    "\n",
    "    \n",
    "specificSenator('Sullivan, Dan (Senator)')\n"
   ]
  },
  {
   "cell_type": "markdown",
   "metadata": {},
   "source": [
    "Ticker traded by volume"
   ]
  },
  {
   "cell_type": "markdown",
   "metadata": {},
   "source": [
    "Type of assets bought"
   ]
  },
  {
   "cell_type": "markdown",
   "metadata": {},
   "source": [
    "Executor of transactions"
   ]
  },
  {
   "cell_type": "markdown",
   "metadata": {},
   "source": [
    "Sector in which they are buying into"
   ]
  }
 ],
 "metadata": {
  "interpreter": {
   "hash": "5e8f5dc85092bdbfee203926c3d6d8596c3bf31d85bb8284db631146f2b177fb"
  },
  "kernelspec": {
   "display_name": "Python 3.9.5 64-bit",
   "language": "python",
   "name": "python3"
  },
  "language_info": {
   "codemirror_mode": {
    "name": "ipython",
    "version": 3
   },
   "file_extension": ".py",
   "mimetype": "text/x-python",
   "name": "python",
   "nbconvert_exporter": "python",
   "pygments_lexer": "ipython3",
   "version": "3.9.6"
  },
  "orig_nbformat": 4
 },
 "nbformat": 4,
 "nbformat_minor": 2
}
